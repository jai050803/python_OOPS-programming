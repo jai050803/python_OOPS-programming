{
 "cells": [
  {
   "cell_type": "markdown",
   "metadata": {},
   "source": [
    "# Object Oriented Programming"
   ]
  },
  {
   "cell_type": "markdown",
   "metadata": {},
   "source": [
    "#### Class and objects"
   ]
  },
  {
   "cell_type": "markdown",
   "metadata": {},
   "source": [
    "- Class - Class refers to the blueprint for an object. It is like a box with certain attributes and methods which can be accessed by creating an object for the class.\n",
    "\n",
    "- Object - Objects are the instance of a class. It is simply a collection of data(attributes) and methods(functions). we can create many objects from a class"
   ]
  },
  {
   "cell_type": "markdown",
   "metadata": {},
   "source": [
    "#### Syntax for Class"
   ]
  },
  {
   "cell_type": "code",
   "execution_count": 16,
   "metadata": {},
   "outputs": [],
   "source": [
    "class Car:\n",
    "    #attributes and methods goes here\n",
    "    name = \"skoda\" #an attribute called name with default value \"\"\n",
    "    gear = 6 #an attribute called gear with default value 0\n",
    "    \n",
    "    def model(Self):\n",
    "        print(f\"the car name is {Self.name} and it has {Self.gear} gears\")"
   ]
  },
  {
   "cell_type": "markdown",
   "metadata": {},
   "source": [
    "#### Syntax for objects"
   ]
  },
  {
   "cell_type": "code",
   "execution_count": 17,
   "metadata": {},
   "outputs": [
    {
     "name": "stdout",
     "output_type": "stream",
     "text": [
      "the car name is maruti Suzuki  and it has 5 gears\n"
     ]
    }
   ],
   "source": [
    "#an object is created outside the class by giving it a name and then calling the class name with parenthesis\n",
    "\n",
    "car1 = Car()  #creating an object called car1\n",
    "car1.name = \"maruti Suzuki \" #accessing name attribute and giving it a value\n",
    "car1.gear = 5 #accessing the gear attribute and giving it value 5\n",
    "car1.model() #accessing the method of the class"
   ]
  },
  {
   "cell_type": "markdown",
   "metadata": {},
   "source": [
    "#### more than one objects\n",
    "\n",
    "with same class, You can create more than one objects like car1, car2, car3, etc"
   ]
  },
  {
   "cell_type": "code",
   "execution_count": 20,
   "metadata": {},
   "outputs": [
    {
     "name": "stdout",
     "output_type": "stream",
     "text": [
      "the car name is tata and it has 6 gears\n",
      "the car name is skoda and it has 6 gears\n"
     ]
    }
   ],
   "source": [
    "car2 = Car()\n",
    "car2.name = \"tata\"\n",
    "car2.gear= 6\n",
    "car2.model()\n",
    "\n",
    "car3 = Car()\n",
    "car3.model() #it will print the default values "
   ]
  },
  {
   "cell_type": "markdown",
   "metadata": {},
   "source": [
    "### Python Constructors\n",
    "\n",
    "- Using constructors , we can initialize values using constructors. In python, the __init__() is called the constructor function that is called whenever a new object of that class is created.\n",
    "\n",
    "- We need to provide the values to the initialized attributes when we create the object. "
   ]
  },
  {
   "cell_type": "code",
   "execution_count": 29,
   "metadata": {},
   "outputs": [],
   "source": [
    "class Bike:\n",
    "    def __init__(self, name=\"\", wheels=2): #constructor function with two attributes\n",
    "        self.name = name\n",
    "        self.wheels = wheels\n",
    "        self.gear = 6\n",
    "        \n",
    "    def model(Self):\n",
    "        print(f\"the bike name is {Self.name} and it has {Self.wheels} wheels and {Self.gear} gears\")"
   ]
  },
  {
   "cell_type": "code",
   "execution_count": 31,
   "metadata": {},
   "outputs": [
    {
     "name": "stdout",
     "output_type": "stream",
     "text": [
      "the bike name is ktm and it has 2 wheels and 6 gears\n",
      "the bike name is yamaha and it has 4 wheels and 6 gears\n"
     ]
    }
   ],
   "source": [
    "bike1 = Bike(\"ktm\") #passing the values when we create the object\n",
    "bike2 = Bike(\"yamaha\", 4) #if no value for an attribute, it take the default value\n",
    "bike1.model()\n",
    "bike2.model()"
   ]
  },
  {
   "cell_type": "code",
   "execution_count": 35,
   "metadata": {},
   "outputs": [
    {
     "name": "stdout",
     "output_type": "stream",
     "text": [
      "the bike name is bmw and it has 2 wheels and 5 gears\n"
     ]
    }
   ],
   "source": [
    "# bike3 = Bike(\"bmw\", 4, 5) #we can't pass value for gear as it was not initialized inside the i__init__ function\n",
    "bike3 = Bike(\"bmw\", 2)\n",
    "bike3.gear= 5 #instead change value by dot notation\n",
    "bike3.model()"
   ]
  },
  {
   "cell_type": "markdown",
   "metadata": {},
   "source": [
    "#### Why we use Self in the Constructor\n",
    "\n",
    "- self is the reference to the current instance of the class. It is used to access the instance attributes and methods. When an Instance method is called, Python Automatically, passes the instance object to first arguement to the method. By convention, first parameter is called self. "
   ]
  }
 ],
 "metadata": {
  "kernelspec": {
   "display_name": "Python 3",
   "language": "python",
   "name": "python3"
  },
  "language_info": {
   "codemirror_mode": {
    "name": "ipython",
    "version": 3
   },
   "file_extension": ".py",
   "mimetype": "text/x-python",
   "name": "python",
   "nbconvert_exporter": "python",
   "pygments_lexer": "ipython3",
   "version": "3.12.3"
  }
 },
 "nbformat": 4,
 "nbformat_minor": 2
}

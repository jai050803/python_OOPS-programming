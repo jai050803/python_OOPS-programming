{
 "cells": [
  {
   "cell_type": "markdown",
   "metadata": {},
   "source": [
    "# Inheritance"
   ]
  },
  {
   "cell_type": "markdown",
   "metadata": {},
   "source": [
    "__inheritance__ is the pillar concept of OOPs.\n",
    "- It refers to the ability of inheriting features or attributes from one class into a newer class we made\n",
    "\n",
    "- It promotes resuability.\n",
    "\n",
    "- In python Inheritance, new class inherits from older class.\n",
    "\n",
    "- The new one copies all the attributes and methods from the older class without rewriting the syntax.\n",
    "\n",
    "The new class is called the __Sub Class__ or __Child Class__ or __derieved Class__.\n",
    "\n",
    "The older class is called the __Base Class__ or __Super Class__ or __Parent Class__."
   ]
  },
  {
   "cell_type": "code",
   "execution_count": 3,
   "metadata": {},
   "outputs": [],
   "source": [
    "#example Code\n",
    "\n",
    "class Animal: #defining a super class animal with attribute name and method eat\n",
    "    name = \"\"\n",
    "    \n",
    "    def eat(self):\n",
    "        print(\"i can eat\")\n",
    "        \n",
    "class update(Animal): #defining a sub class update with new attributes and methods\n",
    "    type=\"\"\n",
    "    \n",
    "    def display(self):\n",
    "        print(f\"i am {self.name} and i am of {self.type} family\") \n",
    "        #name attribute is copied in this class from super class."
   ]
  },
  {
   "cell_type": "code",
   "execution_count": 6,
   "metadata": {},
   "outputs": [
    {
     "name": "stdout",
     "output_type": "stream",
     "text": [
      "i am snake and i am of reptile family\n",
      "i can eat\n"
     ]
    }
   ],
   "source": [
    "#the derieved class update has all the attributes and methods of base class\n",
    "animal1 = update()\n",
    "\n",
    "animal1.name = \"snake\"\n",
    "animal1.type = \"reptile\"\n",
    "\n",
    "animal1.display()\n",
    "animal1.eat()"
   ]
  }
 ],
 "metadata": {
  "kernelspec": {
   "display_name": "Python 3",
   "language": "python",
   "name": "python3"
  },
  "language_info": {
   "codemirror_mode": {
    "name": "ipython",
    "version": 3
   },
   "file_extension": ".py",
   "mimetype": "text/x-python",
   "name": "python",
   "nbconvert_exporter": "python",
   "pygments_lexer": "ipython3",
   "version": "3.12.3"
  }
 },
 "nbformat": 4,
 "nbformat_minor": 2
}

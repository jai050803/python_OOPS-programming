{
 "cells": [
  {
   "cell_type": "markdown",
   "metadata": {},
   "source": [
    "# Inheritance"
   ]
  },
  {
   "cell_type": "markdown",
   "metadata": {},
   "source": [
    "__inheritance__ is the pillar concept of OOPs.\n",
    "- It refers to the ability of inheriting features or attributes from one class into a newer class we made\n",
    "\n",
    "- It promotes resuability.\n",
    "\n",
    "- In python Inheritance, new class inherits from older class.\n",
    "\n",
    "- The new one copies all the attributes and methods from the older class without rewriting the syntax.\n",
    "\n",
    "The new class is called the __Sub Class__ or __Child Class__ or __derieved Class__.\n",
    "\n",
    "The older class is called the __Base Class__ or __Super Class__ or __Parent Class__."
   ]
  },
  {
   "cell_type": "code",
   "execution_count": 1,
   "metadata": {},
   "outputs": [],
   "source": [
    "#example Code\n",
    "\n",
    "class Animal: #defining a super class animal with attribute name and method eat\n",
    "    name = \"\"\n",
    "    \n",
    "    def eat(self):\n",
    "        print(\"i can eat\")\n",
    "        \n",
    "class update(Animal): #defining a sub class update with new attributes and methods\n",
    "    type=\"\"\n",
    "    \n",
    "    def display(self):\n",
    "        print(f\"i am {self.name} and i am of {self.type} family\") \n",
    "        #name attribute is copied in this class from super class."
   ]
  },
  {
   "cell_type": "code",
   "execution_count": 2,
   "metadata": {},
   "outputs": [
    {
     "name": "stdout",
     "output_type": "stream",
     "text": [
      "i am snake and i am of reptile family\n",
      "i can eat\n"
     ]
    }
   ],
   "source": [
    "#the derieved class update has all the attributes and methods of base class\n",
    "animal1 = update()\n",
    "\n",
    "animal1.name = \"snake\"\n",
    "animal1.type = \"reptile\"\n",
    "\n",
    "animal1.display()\n",
    "animal1.eat()"
   ]
  },
  {
   "cell_type": "markdown",
   "metadata": {},
   "source": [
    "#### Types of Inheritance\n",
    "\n",
    "- Single inheritance\n",
    "- Multiple Inheritance\n",
    "- Multilevel inheritance\n",
    "- Hierarchial Inheritance\n",
    "- Hybrid Inheritance"
   ]
  },
  {
   "cell_type": "markdown",
   "metadata": {},
   "source": [
    "#### Single Inheritance"
   ]
  },
  {
   "cell_type": "markdown",
   "metadata": {},
   "source": [
    "Single child is derieved from single parent class."
   ]
  },
  {
   "cell_type": "code",
   "execution_count": 3,
   "metadata": {},
   "outputs": [
    {
     "name": "stdout",
     "output_type": "stream",
     "text": [
      "car name is BMW and model is kt20\n",
      "name is yamaha and models is splender and it has 2 wheels\n"
     ]
    }
   ],
   "source": [
    "class Car:\n",
    "    name = \"\"\n",
    "    model=\"\"\n",
    "    \n",
    "    def display(self):\n",
    "        print(f\"car name is {self.name} and model is {self.model}\")\n",
    "\n",
    "class Bike(Car):\n",
    "    def wheels(self):\n",
    "        print(f\"name is {self.name} and models is {self.model} and it has 2 wheels\")\n",
    "    \n",
    "\n",
    "car1 = Car()\n",
    "bike1 = Bike()\n",
    "\n",
    "car1.name = \"BMW\"\n",
    "car1.model = \"kt20\"\n",
    "\n",
    "bike1.name = \"yamaha\"\n",
    "bike1.model = \"splender\"\n",
    "\n",
    "car1.display()\n",
    "bike1.wheels()\n",
    "    "
   ]
  },
  {
   "cell_type": "markdown",
   "metadata": {},
   "source": [
    "#### Multiple Inheritance"
   ]
  },
  {
   "cell_type": "markdown",
   "metadata": {},
   "source": [
    "- Single child class is derieved from two or more parent class\n",
    "\n",
    "- if two parents are of same name then the first one is given preference\n",
    "\n",
    "- To find order of classes visited by child class use __print(child.__mro__)__ method"
   ]
  },
  {
   "cell_type": "code",
   "execution_count": 4,
   "metadata": {},
   "outputs": [
    {
     "name": "stdout",
     "output_type": "stream",
     "text": [
      "good afternoon jai\n",
      "(<class '__main__.child'>, <class '__main__.parent1'>, <class '__main__.parent2'>, <class 'object'>)\n"
     ]
    }
   ],
   "source": [
    "class parent1:\n",
    "    greet = \"good morning\"\n",
    "\n",
    "class parent2:\n",
    "    name = \"\"\n",
    "\n",
    "class child(parent1,parent2):\n",
    "    def greetings(self):\n",
    "        print(f\"{self.greet} {self.name}\")\n",
    "\n",
    "say = parent1()\n",
    "name = parent2()\n",
    "c = child()\n",
    "\n",
    "c.greet = \"good afternoon\"\n",
    "c.name = \"jai\"\n",
    "\n",
    "c.greetings()\n",
    "print(child.__mro__)\n"
   ]
  },
  {
   "cell_type": "markdown",
   "metadata": {},
   "source": [
    "#### Multilevel Inheritance"
   ]
  },
  {
   "cell_type": "markdown",
   "metadata": {},
   "source": [
    "- In this inheritance, there is more relations than just child -parent relationship.\n",
    "\n",
    "- There are more than two levels of inheritance like grandparent-parent-child"
   ]
  },
  {
   "cell_type": "code",
   "execution_count": 5,
   "metadata": {},
   "outputs": [
    {
     "name": "stdout",
     "output_type": "stream",
     "text": [
      "Name: Buddy\n",
      "Breed: Golden Retriever\n",
      "Age: 1\n",
      "Sound: Yip\n"
     ]
    }
   ],
   "source": [
    "# Base class - grandfather\n",
    "class Animal:\n",
    "    def __init__(self, name):\n",
    "        self.name = name\n",
    "\n",
    "    def speak(self):\n",
    "        return \"Some sound\"\n",
    "\n",
    "# Derived class 1 (inherits from Animal) - father\n",
    "class Dog(Animal):\n",
    "    def __init__(self, name, breed):\n",
    "        super().__init__(name)\n",
    "        self.breed = breed\n",
    "\n",
    "    def speak(self):\n",
    "        return \"Bark\"\n",
    "\n",
    "# Derived class 2 (inherits from Dog) - son\n",
    "class Puppy(Dog):\n",
    "    def __init__(self, name, breed, age):\n",
    "        super().__init__(name, breed)\n",
    "        self.age = age\n",
    "\n",
    "    def speak(self):\n",
    "        return \"Yip\"\n",
    "\n",
    "# Creating an object of Puppy class\n",
    "puppy = Puppy(\"Buddy\", \"Golden Retriever\", 1)\n",
    "\n",
    "print(f\"Name: {puppy.name}\")\n",
    "print(f\"Breed: {puppy.breed}\")\n",
    "print(f\"Age: {puppy.age}\")\n",
    "print(f\"Sound: {puppy.speak()}\")\n"
   ]
  },
  {
   "cell_type": "markdown",
   "metadata": {},
   "source": [
    "### Hierarchial Inheritance\n",
    "\n",
    "Multiple classes inherit from the same parent class.\n"
   ]
  },
  {
   "cell_type": "code",
   "execution_count": 6,
   "metadata": {},
   "outputs": [
    {
     "name": "stdout",
     "output_type": "stream",
     "text": [
      "Bark\n",
      "Meow\n"
     ]
    }
   ],
   "source": [
    "class Animal:\n",
    "    def speak(self):\n",
    "        return \"Some sound\"\n",
    "\n",
    "class Dog(Animal):\n",
    "    def speak(self):\n",
    "        return \"Bark\"\n",
    "\n",
    "class Cat(Animal):\n",
    "    def speak(self):\n",
    "        return \"Meow\"\n",
    "\n",
    "dog = Dog()\n",
    "cat = Cat()\n",
    "print(dog.speak())\n",
    "print(cat.speak())\n"
   ]
  },
  {
   "cell_type": "markdown",
   "metadata": {},
   "source": [
    "### Hybrid Inheritance\n",
    "\n",
    "- Mixture of two or more different types of inheritance as we studied above.\n",
    "\n",
    "- Here we can have relationships between parent and child with multiple levels."
   ]
  },
  {
   "cell_type": "code",
   "execution_count": 8,
   "metadata": {},
   "outputs": [
    {
     "name": "stdout",
     "output_type": "stream",
     "text": [
      "Bark\n",
      "True\n",
      "Yes\n"
     ]
    }
   ],
   "source": [
    "class Animal:\n",
    "    def speak(self):\n",
    "        return \"Some sound\"\n",
    "\n",
    "class Mammal(Animal):\n",
    "    def is_mammal(self):\n",
    "        return True\n",
    "\n",
    "class Pet:\n",
    "    def friendly(self):\n",
    "        return \"Yes\"\n",
    "\n",
    "class Dog(Mammal, Pet):\n",
    "    def speak(self):\n",
    "        return \"Bark\"\n",
    "\n",
    "dog = Dog()\n",
    "print(dog.speak())\n",
    "print(dog.is_mammal())\n",
    "print(dog.friendly())\n"
   ]
  },
  {
   "cell_type": "markdown",
   "metadata": {},
   "source": [
    "### Advantages of Inheritance\n",
    "\n",
    "- __Modular codebase__ : Increase modularity, break code into module making it easier to understand\n",
    "\n",
    "- __Code reusability__ : Child copies all the attributes and methods from parent class and use. It saves times and efforts.\n",
    "\n",
    "- __Less development and maintainance cost__ : changes in base class will auto effect child class."
   ]
  },
  {
   "cell_type": "markdown",
   "metadata": {},
   "source": [
    "### Disadvantages of inheritance\n",
    "\n",
    "- __Decreases execution speed__ : Loading multiple classes because they are interdependent.\n",
    "\n",
    "- __Tightly coupled classes__ : Even though parent class can be executed independently, child classes cannot be executed without defining their parent class."
   ]
  }
 ],
 "metadata": {
  "kernelspec": {
   "display_name": "Python 3",
   "language": "python",
   "name": "python3"
  },
  "language_info": {
   "codemirror_mode": {
    "name": "ipython",
    "version": 3
   },
   "file_extension": ".py",
   "mimetype": "text/x-python",
   "name": "python",
   "nbconvert_exporter": "python",
   "pygments_lexer": "ipython3",
   "version": "3.12.3"
  }
 },
 "nbformat": 4,
 "nbformat_minor": 2
}

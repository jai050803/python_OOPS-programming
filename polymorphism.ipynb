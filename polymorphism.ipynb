{
 "cells": [
  {
   "cell_type": "markdown",
   "metadata": {},
   "source": [
    "# __Polymorphism In Python__"
   ]
  },
  {
   "cell_type": "markdown",
   "metadata": {},
   "source": [
    "Ability of one function to perform mulltiple functionalities.\n",
    "\n",
    "It can be implemented in different ways - \n",
    "\n",
    "- operation overloading\n",
    "- built-in functions\n",
    "- classes \n",
    "- inheritance"
   ]
  },
  {
   "cell_type": "markdown",
   "metadata": {},
   "source": [
    "It refers to functions having same name but being used in different ways and different scenerios."
   ]
  },
  {
   "cell_type": "markdown",
   "metadata": {},
   "source": [
    "__example__"
   ]
  },
  {
   "cell_type": "code",
   "execution_count": 1,
   "metadata": {},
   "outputs": [
    {
     "name": "stdout",
     "output_type": "stream",
     "text": [
      "60\n",
      "jai singh\n"
     ]
    }
   ],
   "source": [
    "print(10+50)\n",
    "print(\"jai\" + \" \" + \"singh\")"
   ]
  },
  {
   "cell_type": "markdown",
   "metadata": {},
   "source": [
    "here __+__ operator is being overloaded. It perform addition in first one and string concatenation in second one."
   ]
  },
  {
   "cell_type": "markdown",
   "metadata": {},
   "source": [
    "### Types of Polymorphism:\n",
    "- Method Overriding (Runtime Polymorphism)\n",
    "- Method Overloading (Compile-time Polymorphism)\n",
    "- Operator Overloading"
   ]
  },
  {
   "cell_type": "markdown",
   "metadata": {},
   "source": [
    "### Functions of Polymorphism in Python\n",
    "\n",
    "There are several functions that depict polymorphism by being compatible with multiple data types.\n",
    "\n",
    "one such example is len() method. It can be used to find length of different data types"
   ]
  },
  {
   "cell_type": "markdown",
   "metadata": {},
   "source": [
    "### Class polymorphism in Python\n",
    "\n",
    "Python allows classes to have different methods of same name."
   ]
  }
 ],
 "metadata": {
  "kernelspec": {
   "display_name": "Python 3",
   "language": "python",
   "name": "python3"
  },
  "language_info": {
   "codemirror_mode": {
    "name": "ipython",
    "version": 3
   },
   "file_extension": ".py",
   "mimetype": "text/x-python",
   "name": "python",
   "nbconvert_exporter": "python",
   "pygments_lexer": "ipython3",
   "version": "3.12.3"
  }
 },
 "nbformat": 4,
 "nbformat_minor": 2
}

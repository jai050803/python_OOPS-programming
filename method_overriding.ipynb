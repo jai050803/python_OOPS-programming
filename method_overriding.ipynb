{
 "cells": [
  {
   "cell_type": "markdown",
   "metadata": {},
   "source": [
    "# Method Overriding"
   ]
  },
  {
   "cell_type": "markdown",
   "metadata": {},
   "source": [
    "Method overriding is essential feature of object oriented programming in which we can have two or more methods (functions) that have the same name but the parameters that they take as input values are different"
   ]
  },
  {
   "cell_type": "markdown",
   "metadata": {},
   "source": [
    "There are three changes done to the parameters\n",
    "\n",
    "- The number of parameters can be different.\n",
    "\n",
    "- the data types of the parameters could be different.\n",
    "\n",
    "- The third way the parameter could be changed is by changing the order of parameters."
   ]
  },
  {
   "cell_type": "code",
   "execution_count": 1,
   "metadata": {},
   "outputs": [
    {
     "data": {
      "text/plain": [
       "9.0"
      ]
     },
     "execution_count": 1,
     "metadata": {},
     "output_type": "execute_result"
    }
   ],
   "source": [
    "def multiply(num1: int, num2:float):\n",
    "    return num1 * num2\n",
    "\n",
    "multiply(2, 3)\n",
    "multiply(2,4.5)"
   ]
  },
  {
   "cell_type": "markdown",
   "metadata": {},
   "source": [
    "To successfully overload a method, you need them to have the same name."
   ]
  },
  {
   "cell_type": "code",
   "execution_count": 2,
   "metadata": {},
   "outputs": [],
   "source": [
    "class Addition:\n",
    "    #first sum of 2 params\n",
    "    def my_sum(self,a,b):\n",
    "        return a+b\n",
    "    \n",
    "    #second overload sum of 3 params\n",
    "    def my_sum(self, a,b,c):\n",
    "        return(self,a,b,c)"
   ]
  },
  {
   "cell_type": "markdown",
   "metadata": {},
   "source": [
    "### ways of method overloading in python"
   ]
  },
  {
   "cell_type": "code",
   "execution_count": 3,
   "metadata": {},
   "outputs": [],
   "source": [
    "#1. creating single function\n",
    "\n",
    "class Summation:\n",
    "    \n",
    "    def sum(self, a=None, b=None, c=None):\n",
    "        s=0\n",
    "        if a!=None and b!=None and c!=None:\n",
    "            s=a+b+c\n",
    "        elif a!=None and b!=None:\n",
    "            s=a+b\n",
    "        elif a!=None:\n",
    "            s=a\n",
    "        else:\n",
    "            s=s\n",
    "        return s"
   ]
  },
  {
   "cell_type": "markdown",
   "metadata": {},
   "source": [
    "### Multipledispatch module for method overloading"
   ]
  },
  {
   "cell_type": "markdown",
   "metadata": {},
   "source": [
    "- It is a powerful tool in python which provide function decorators.  \n",
    "- Using function decorators we can modify the behaviour of a function in a class.\n",
    "- the decorator dynamically defined the data types for every function definition is dynamically dispatched according to the data types we mentioned, as well as number of parameters we mentioned in decorator"
   ]
  },
  {
   "cell_type": "code",
   "execution_count": 12,
   "metadata": {},
   "outputs": [],
   "source": [
    "#2. method overloading using multipledispatch\n",
    "from multipledispatch import dispatch\n",
    "class calculation:\n",
    "    \n",
    "    @dispatch(int,int)\n",
    "    def summ(a,b):\n",
    "        print(a+b)\n",
    "    \n",
    "    @dispatch(int,int,int)\n",
    "    def summ(a,b,c):\n",
    "        print(a+b+c)\n",
    "    \n",
    "    @dispatch(float,float,float)\n",
    "    def summ(a,b,c):\n",
    "        print(a+b+c)\n"
   ]
  },
  {
   "cell_type": "code",
   "execution_count": 13,
   "metadata": {},
   "outputs": [
    {
     "name": "stdout",
     "output_type": "stream",
     "text": [
      "15\n",
      "9\n",
      "14.2\n"
     ]
    }
   ],
   "source": [
    "dm = calculation()\n",
    "dm.summ(2,3,10)\n",
    "dm.summ(4,5)\n",
    "dm.summ(2.3,5.4,6.5)"
   ]
  }
 ],
 "metadata": {
  "kernelspec": {
   "display_name": "Python 3",
   "language": "python",
   "name": "python3"
  },
  "language_info": {
   "codemirror_mode": {
    "name": "ipython",
    "version": 3
   },
   "file_extension": ".py",
   "mimetype": "text/x-python",
   "name": "python",
   "nbconvert_exporter": "python",
   "pygments_lexer": "ipython3",
   "version": "3.12.3"
  }
 },
 "nbformat": 4,
 "nbformat_minor": 2
}

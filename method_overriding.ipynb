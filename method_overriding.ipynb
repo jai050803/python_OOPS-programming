{
 "cells": [
  {
   "cell_type": "markdown",
   "metadata": {},
   "source": [
    "# Method Overriding"
   ]
  },
  {
   "cell_type": "markdown",
   "metadata": {},
   "source": [
    "Method overriding is essential feature of object oriented programming in which we can have two or more methods (functions) that have the same name but the parameters that they take as input values are different"
   ]
  },
  {
   "cell_type": "markdown",
   "metadata": {},
   "source": [
    "There are three changes done to the parameters\n",
    "\n",
    "- The number of parameters can be different.\n",
    "\n",
    "- the data types of the parameters could be different.\n",
    "\n",
    "- The third way the parameter could be changed is by changing the order of parameters."
   ]
  },
  {
   "cell_type": "code",
   "execution_count": 1,
   "metadata": {},
   "outputs": [
    {
     "data": {
      "text/plain": [
       "9.0"
      ]
     },
     "execution_count": 1,
     "metadata": {},
     "output_type": "execute_result"
    }
   ],
   "source": [
    "def multiply(num1: int, num2:float):\n",
    "    return num1 * num2\n",
    "\n",
    "multiply(2, 3)\n",
    "multiply(2,4.5)"
   ]
  },
  {
   "cell_type": "markdown",
   "metadata": {},
   "source": [
    "To successfully overload a method, you need them to have the same name."
   ]
  },
  {
   "cell_type": "code",
   "execution_count": 2,
   "metadata": {},
   "outputs": [],
   "source": [
    "class Addition:\n",
    "    #first sum of 2 params\n",
    "    def my_sum(self,a,b):\n",
    "        return a+b\n",
    "    \n",
    "    #second overload sum of 3 params\n",
    "    def my_sum(self, a,b,c):\n",
    "        return(self,a,b,c)"
   ]
  }
 ],
 "metadata": {
  "kernelspec": {
   "display_name": "Python 3",
   "language": "python",
   "name": "python3"
  },
  "language_info": {
   "codemirror_mode": {
    "name": "ipython",
    "version": 3
   },
   "file_extension": ".py",
   "mimetype": "text/x-python",
   "name": "python",
   "nbconvert_exporter": "python",
   "pygments_lexer": "ipython3",
   "version": "3.12.3"
  }
 },
 "nbformat": 4,
 "nbformat_minor": 2
}
